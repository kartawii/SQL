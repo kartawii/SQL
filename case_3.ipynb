{
 "cells": [
  {
   "cell_type": "code",
   "execution_count": null,
   "id": "688f1d2c",
   "metadata": {},
   "outputs": [],
   "source": [
    "Кейс 3. Вычисляемые поля. Арифметические функции. Работа со временем, строками и json-ами в полях\n",
    "\n",
    "ЗАДАНИЕ:\n",
    "    \n",
    "При помощи запросов к БД:\n",
    "1. Посчитать количество аккаунтов в таблице accounts.\n",
    "2. Посчитать сумму проданных предметов с названием «‎Премиум статус», \n",
    "по полю itemcount в таблице shop_log в период с 10.08.2018 по 20.08.2018 включительно.\n",
    "3. Узнать среднее, максимальное и минимальное значения по полю itemcount в таблице shop_log за 2018.08.21. \n",
    "Среднее значение округлить до целого и преобразовать в тип INT."
   ]
  },
  {
   "cell_type": "code",
   "execution_count": 1,
   "id": "d2aae97f",
   "metadata": {
    "scrolled": true
   },
   "outputs": [
    {
     "name": "stdout",
     "output_type": "stream",
     "text": [
      "Requirement already satisfied: psycopg2 in c:\\users\\4dani\\anaconda3\\lib\\site-packages (2.9.3)\n",
      "Note: you may need to restart the kernel to use updated packages.\n"
     ]
    }
   ],
   "source": [
    "pip install psycopg2"
   ]
  },
  {
   "cell_type": "code",
   "execution_count": 2,
   "id": "593091e8",
   "metadata": {},
   "outputs": [],
   "source": [
    "HOST = '37.139.42.145'\n",
    "DBNAME = 'game-analytics'\n",
    "USER = 'analytics'\n",
    "PASSWORD = 'BRtTaqYiJyr29WXN'\n",
    "\n",
    "from sqlalchemy import create_engine\n",
    "engine = create_engine(f'postgresql://{USER}:{PASSWORD}@{HOST}/{DBNAME}')\n",
    "\n"
   ]
  },
  {
   "cell_type": "code",
   "execution_count": 3,
   "id": "5e5a8dbe",
   "metadata": {},
   "outputs": [
    {
     "data": {
      "text/html": [
       "<div>\n",
       "<style scoped>\n",
       "    .dataframe tbody tr th:only-of-type {\n",
       "        vertical-align: middle;\n",
       "    }\n",
       "\n",
       "    .dataframe tbody tr th {\n",
       "        vertical-align: top;\n",
       "    }\n",
       "\n",
       "    .dataframe thead th {\n",
       "        text-align: right;\n",
       "    }\n",
       "</style>\n",
       "<table border=\"1\" class=\"dataframe\">\n",
       "  <thead>\n",
       "    <tr style=\"text-align: right;\">\n",
       "      <th></th>\n",
       "      <th>count</th>\n",
       "    </tr>\n",
       "  </thead>\n",
       "  <tbody>\n",
       "    <tr>\n",
       "      <th>0</th>\n",
       "      <td>33685</td>\n",
       "    </tr>\n",
       "  </tbody>\n",
       "</table>\n",
       "</div>"
      ],
      "text/plain": [
       "   count\n",
       "0  33685"
      ]
     },
     "execution_count": 3,
     "metadata": {},
     "output_type": "execute_result"
    }
   ],
   "source": [
    "import pandas as pd\n",
    "import matplotlib\n",
    "\n",
    "df = pd.read_sql(f'''\n",
    "SELECT count(*) \n",
    "FROM gu_game_analytics_1188.accounts \n",
    "''', con=engine)\n",
    "df"
   ]
  },
  {
   "cell_type": "code",
   "execution_count": 4,
   "id": "04fae95c",
   "metadata": {},
   "outputs": [
    {
     "data": {
      "text/html": [
       "<div>\n",
       "<style scoped>\n",
       "    .dataframe tbody tr th:only-of-type {\n",
       "        vertical-align: middle;\n",
       "    }\n",
       "\n",
       "    .dataframe tbody tr th {\n",
       "        vertical-align: top;\n",
       "    }\n",
       "\n",
       "    .dataframe thead th {\n",
       "        text-align: right;\n",
       "    }\n",
       "</style>\n",
       "<table border=\"1\" class=\"dataframe\">\n",
       "  <thead>\n",
       "    <tr style=\"text-align: right;\">\n",
       "      <th></th>\n",
       "      <th>sum</th>\n",
       "    </tr>\n",
       "  </thead>\n",
       "  <tbody>\n",
       "    <tr>\n",
       "      <th>0</th>\n",
       "      <td>616.0</td>\n",
       "    </tr>\n",
       "  </tbody>\n",
       "</table>\n",
       "</div>"
      ],
      "text/plain": [
       "     sum\n",
       "0  616.0"
      ]
     },
     "execution_count": 4,
     "metadata": {},
     "output_type": "execute_result"
    }
   ],
   "source": [
    "import pandas as pd\n",
    "import matplotlib\n",
    "\n",
    "df = pd.read_sql(f'''\n",
    "SELECT sum(itemcount) \n",
    "FROM gu_game_analytics_1188.shop_log\n",
    "WHERE 1=1\n",
    "    AND itemname = 'Премиум статус'\n",
    "    AND time BETWEEN '2018-08-10 00:00:00' AND '2018-08-20 23:59:59'\n",
    "''', con=engine)\n",
    "df"
   ]
  },
  {
   "cell_type": "code",
   "execution_count": 5,
   "id": "a586843a",
   "metadata": {},
   "outputs": [
    {
     "data": {
      "text/html": [
       "<div>\n",
       "<style scoped>\n",
       "    .dataframe tbody tr th:only-of-type {\n",
       "        vertical-align: middle;\n",
       "    }\n",
       "\n",
       "    .dataframe tbody tr th {\n",
       "        vertical-align: top;\n",
       "    }\n",
       "\n",
       "    .dataframe thead th {\n",
       "        text-align: right;\n",
       "    }\n",
       "</style>\n",
       "<table border=\"1\" class=\"dataframe\">\n",
       "  <thead>\n",
       "    <tr style=\"text-align: right;\">\n",
       "      <th></th>\n",
       "      <th>floor</th>\n",
       "      <th>max</th>\n",
       "      <th>min</th>\n",
       "    </tr>\n",
       "  </thead>\n",
       "  <tbody>\n",
       "    <tr>\n",
       "      <th>0</th>\n",
       "      <td>1</td>\n",
       "      <td>5</td>\n",
       "      <td>1</td>\n",
       "    </tr>\n",
       "  </tbody>\n",
       "</table>\n",
       "</div>"
      ],
      "text/plain": [
       "   floor  max  min\n",
       "0      1    5    1"
      ]
     },
     "execution_count": 5,
     "metadata": {},
     "output_type": "execute_result"
    }
   ],
   "source": [
    "import pandas as pd\n",
    "import matplotlib\n",
    "\n",
    "df = pd.read_sql(f'''\n",
    "SELECT \n",
    "    cast(floor(avg(itemcount)) as INT),\n",
    "    max(itemcount),\n",
    "    min(itemcount)\n",
    "FROM gu_game_analytics_1188.shop_log\n",
    "WHERE time BETWEEN '2018-08-21 00:00:00' AND '2018-08-21 23:59:59'\n",
    "''', con=engine)\n",
    "df"
   ]
  }
 ],
 "metadata": {
  "kernelspec": {
   "display_name": "Python 3 (ipykernel)",
   "language": "python",
   "name": "python3"
  },
  "language_info": {
   "codemirror_mode": {
    "name": "ipython",
    "version": 3
   },
   "file_extension": ".py",
   "mimetype": "text/x-python",
   "name": "python",
   "nbconvert_exporter": "python",
   "pygments_lexer": "ipython3",
   "version": "3.9.7"
  }
 },
 "nbformat": 4,
 "nbformat_minor": 5
}
