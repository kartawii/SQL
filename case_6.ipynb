{
 "cells": [
  {
   "cell_type": "markdown",
   "id": "e1723409",
   "metadata": {},
   "source": [
    "Оконные функции\n",
    "\n",
    "1. Для периода с 01.08.2018 по 07.08.2018 для каждой даты вывести саму дату, ID персонажа, имеющего наибольшую сумму транзакций за эту дату, и саму сумму транзакций по таблице shop_log. Если персонажи имеют одинаковую сумму транзакций, то они все должны попасть в конечную выборку. Данные отсортировать по датам по возрастанию. Для этого исходя из задания необходимо выбрать функцию ранжирования, для каждой даты присвоив персонажу его место исходя из суммы транзакций. То есть сгруппировать внутри оконной функции данные по датам и отсортировать по сумме транзакций по убыванию. Затем необходимо оставить только записи, относящиеся к первым местам.\n",
    "\n",
    "2. Для периода с 01.08.2018 по 07.08.2018 вывести дату, сумму транзакций за эту дату и разницу суммы транзакцией и суммой предыдущего дня по таблице shop_log. Данные отсортировать по датам по возрастанию. Для этого необходимо использовать функцию LAG(), с её помощью вывести отдельным полем сумму транзакций предыдущего дня, и просто вычесть одно из другого."
   ]
  },
  {
   "cell_type": "code",
   "execution_count": 1,
   "id": "d2aae97f",
   "metadata": {
    "scrolled": true
   },
   "outputs": [
    {
     "name": "stdout",
     "output_type": "stream",
     "text": [
      "Requirement already satisfied: psycopg2 in c:\\users\\4dani\\anaconda3\\lib\\site-packages (2.9.3)Note: you may need to restart the kernel to use updated packages.\n",
      "\n"
     ]
    }
   ],
   "source": [
    "pip install psycopg2"
   ]
  },
  {
   "cell_type": "code",
   "execution_count": 2,
   "id": "593091e8",
   "metadata": {},
   "outputs": [],
   "source": [
    "HOST = '37.139.42.145'\n",
    "DBNAME = 'game-analytics'\n",
    "USER = 'analytics'\n",
    "PASSWORD = 'BRtTaqYiJyr29WXN'\n",
    "\n",
    "from sqlalchemy import create_engine\n",
    "engine = create_engine(f'postgresql://{USER}:{PASSWORD}@{HOST}/{DBNAME}')\n",
    "\n"
   ]
  },
  {
   "cell_type": "code",
   "execution_count": 3,
   "id": "a1e3e173",
   "metadata": {},
   "outputs": [
    {
     "data": {
      "text/html": [
       "<div>\n",
       "<style scoped>\n",
       "    .dataframe tbody tr th:only-of-type {\n",
       "        vertical-align: middle;\n",
       "    }\n",
       "\n",
       "    .dataframe tbody tr th {\n",
       "        vertical-align: top;\n",
       "    }\n",
       "\n",
       "    .dataframe thead th {\n",
       "        text-align: right;\n",
       "    }\n",
       "</style>\n",
       "<table border=\"1\" class=\"dataframe\">\n",
       "  <thead>\n",
       "    <tr style=\"text-align: right;\">\n",
       "      <th></th>\n",
       "      <th>date</th>\n",
       "      <th>id</th>\n",
       "      <th>max</th>\n",
       "    </tr>\n",
       "  </thead>\n",
       "  <tbody>\n",
       "    <tr>\n",
       "      <th>0</th>\n",
       "      <td>2018-08-01</td>\n",
       "      <td>3893933</td>\n",
       "      <td>6700.0</td>\n",
       "    </tr>\n",
       "    <tr>\n",
       "      <th>1</th>\n",
       "      <td>2018-08-02</td>\n",
       "      <td>5795259</td>\n",
       "      <td>5200.0</td>\n",
       "    </tr>\n",
       "    <tr>\n",
       "      <th>2</th>\n",
       "      <td>2018-08-02</td>\n",
       "      <td>4943833</td>\n",
       "      <td>5200.0</td>\n",
       "    </tr>\n",
       "    <tr>\n",
       "      <th>3</th>\n",
       "      <td>2018-08-03</td>\n",
       "      <td>4855383</td>\n",
       "      <td>11000.0</td>\n",
       "    </tr>\n",
       "    <tr>\n",
       "      <th>4</th>\n",
       "      <td>2018-08-04</td>\n",
       "      <td>5730766</td>\n",
       "      <td>10000.0</td>\n",
       "    </tr>\n",
       "    <tr>\n",
       "      <th>5</th>\n",
       "      <td>2018-08-05</td>\n",
       "      <td>2913253</td>\n",
       "      <td>5200.0</td>\n",
       "    </tr>\n",
       "    <tr>\n",
       "      <th>6</th>\n",
       "      <td>2018-08-06</td>\n",
       "      <td>5709710</td>\n",
       "      <td>7200.0</td>\n",
       "    </tr>\n",
       "    <tr>\n",
       "      <th>7</th>\n",
       "      <td>2018-08-07</td>\n",
       "      <td>5745069</td>\n",
       "      <td>6950.0</td>\n",
       "    </tr>\n",
       "  </tbody>\n",
       "</table>\n",
       "</div>"
      ],
      "text/plain": [
       "         date       id      max\n",
       "0  2018-08-01  3893933   6700.0\n",
       "1  2018-08-02  5795259   5200.0\n",
       "2  2018-08-02  4943833   5200.0\n",
       "3  2018-08-03  4855383  11000.0\n",
       "4  2018-08-04  5730766  10000.0\n",
       "5  2018-08-05  2913253   5200.0\n",
       "6  2018-08-06  5709710   7200.0\n",
       "7  2018-08-07  5745069   6950.0"
      ]
     },
     "execution_count": 3,
     "metadata": {},
     "output_type": "execute_result"
    }
   ],
   "source": [
    "import pandas as pd\n",
    "import matplotlib\n",
    "\n",
    "df = pd.read_sql(f'''\n",
    "SELECT date, id, max\n",
    "FROM (\n",
    "    SELECT distinct charid as id, cast(time as date) as date, sum(itemprice*itemcount) as max,\n",
    "    rank() OVER (PARTITION BY cast(time as date) ORDER BY sum(itemprice*itemcount) DESC ) as rank_sum \n",
    "    FROM gu_game_analytics_1188.shop_log\n",
    "    WHERE time BETWEEN '2018-08-01 00:00:00' AND '2018-08-07 23:59:59'\n",
    "    GROUP BY charid, date\n",
    "    ) as t\n",
    "WHERE rank_sum = '1'\n",
    "ORDER BY date\n",
    "''', con=engine)\n",
    "df"
   ]
  },
  {
   "cell_type": "code",
   "execution_count": 4,
   "id": "672e447a",
   "metadata": {},
   "outputs": [
    {
     "data": {
      "text/html": [
       "<div>\n",
       "<style scoped>\n",
       "    .dataframe tbody tr th:only-of-type {\n",
       "        vertical-align: middle;\n",
       "    }\n",
       "\n",
       "    .dataframe tbody tr th {\n",
       "        vertical-align: top;\n",
       "    }\n",
       "\n",
       "    .dataframe thead th {\n",
       "        text-align: right;\n",
       "    }\n",
       "</style>\n",
       "<table border=\"1\" class=\"dataframe\">\n",
       "  <thead>\n",
       "    <tr style=\"text-align: right;\">\n",
       "      <th></th>\n",
       "      <th>date</th>\n",
       "      <th>sum1</th>\n",
       "      <th>diff</th>\n",
       "    </tr>\n",
       "  </thead>\n",
       "  <tbody>\n",
       "    <tr>\n",
       "      <th>0</th>\n",
       "      <td>2018-08-01</td>\n",
       "      <td>304900.0</td>\n",
       "      <td>NaN</td>\n",
       "    </tr>\n",
       "    <tr>\n",
       "      <th>1</th>\n",
       "      <td>2018-08-02</td>\n",
       "      <td>272000.0</td>\n",
       "      <td>-32900.0</td>\n",
       "    </tr>\n",
       "    <tr>\n",
       "      <th>2</th>\n",
       "      <td>2018-08-03</td>\n",
       "      <td>327150.0</td>\n",
       "      <td>55150.0</td>\n",
       "    </tr>\n",
       "    <tr>\n",
       "      <th>3</th>\n",
       "      <td>2018-08-04</td>\n",
       "      <td>311050.0</td>\n",
       "      <td>-16100.0</td>\n",
       "    </tr>\n",
       "    <tr>\n",
       "      <th>4</th>\n",
       "      <td>2018-08-05</td>\n",
       "      <td>298900.0</td>\n",
       "      <td>-12150.0</td>\n",
       "    </tr>\n",
       "    <tr>\n",
       "      <th>5</th>\n",
       "      <td>2018-08-06</td>\n",
       "      <td>367250.0</td>\n",
       "      <td>68350.0</td>\n",
       "    </tr>\n",
       "    <tr>\n",
       "      <th>6</th>\n",
       "      <td>2018-08-07</td>\n",
       "      <td>308350.0</td>\n",
       "      <td>-58900.0</td>\n",
       "    </tr>\n",
       "  </tbody>\n",
       "</table>\n",
       "</div>"
      ],
      "text/plain": [
       "         date      sum1     diff\n",
       "0  2018-08-01  304900.0      NaN\n",
       "1  2018-08-02  272000.0 -32900.0\n",
       "2  2018-08-03  327150.0  55150.0\n",
       "3  2018-08-04  311050.0 -16100.0\n",
       "4  2018-08-05  298900.0 -12150.0\n",
       "5  2018-08-06  367250.0  68350.0\n",
       "6  2018-08-07  308350.0 -58900.0"
      ]
     },
     "execution_count": 4,
     "metadata": {},
     "output_type": "execute_result"
    }
   ],
   "source": [
    "df = pd.read_sql(f'''\n",
    "SELECT date, sum1,\n",
    "(sum1-sum2) as diff\n",
    "FROM (\n",
    "    SELECT cast(time as date) as date, sum(itemprice*itemcount) as sum1,\n",
    "    lag(sum(itemprice*itemcount)) OVER () as sum2\n",
    "    FROM gu_game_analytics_1188.shop_log\n",
    "    WHERE time BETWEEN '2018-08-01 00:00:00' AND '2018-08-07 23:59:59'\n",
    "    GROUP BY date\n",
    "    ORDER BY date\n",
    "    ) as t\n",
    "''', con=engine)\n",
    "df"
   ]
  },
  {
   "cell_type": "code",
   "execution_count": null,
   "id": "a08550a9",
   "metadata": {},
   "outputs": [],
   "source": []
  }
 ],
 "metadata": {
  "kernelspec": {
   "display_name": "Python 3 (ipykernel)",
   "language": "python",
   "name": "python3"
  },
  "language_info": {
   "codemirror_mode": {
    "name": "ipython",
    "version": 3
   },
   "file_extension": ".py",
   "mimetype": "text/x-python",
   "name": "python",
   "nbconvert_exporter": "python",
   "pygments_lexer": "ipython3",
   "version": "3.9.7"
  }
 },
 "nbformat": 4,
 "nbformat_minor": 5
}
